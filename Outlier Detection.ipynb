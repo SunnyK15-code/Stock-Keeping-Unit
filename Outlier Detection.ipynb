{
 "cells": [
  {
   "cell_type": "code",
   "execution_count": 1,
   "metadata": {},
   "outputs": [],
   "source": [
    "import pandas as pd\n",
    "import numpy as np"
   ]
  },
  {
   "cell_type": "code",
   "execution_count": 2,
   "metadata": {},
   "outputs": [
    {
     "data": {
      "text/html": [
       "<div>\n",
       "<style scoped>\n",
       "    .dataframe tbody tr th:only-of-type {\n",
       "        vertical-align: middle;\n",
       "    }\n",
       "\n",
       "    .dataframe tbody tr th {\n",
       "        vertical-align: top;\n",
       "    }\n",
       "\n",
       "    .dataframe thead th {\n",
       "        text-align: right;\n",
       "    }\n",
       "</style>\n",
       "<table border=\"1\" class=\"dataframe\">\n",
       "  <thead>\n",
       "    <tr style=\"text-align: right;\">\n",
       "      <th></th>\n",
       "      <th>Date</th>\n",
       "      <th>product</th>\n",
       "      <th>phase</th>\n",
       "      <th>campaign_platform</th>\n",
       "      <th>campaign_type</th>\n",
       "      <th>communication_medium</th>\n",
       "      <th>subchannel</th>\n",
       "      <th>audience_type</th>\n",
       "      <th>creative_type</th>\n",
       "      <th>creative_name</th>\n",
       "      <th>device</th>\n",
       "      <th>age</th>\n",
       "      <th>spends</th>\n",
       "      <th>impressions</th>\n",
       "      <th>clicks</th>\n",
       "      <th>link_clicks</th>\n",
       "    </tr>\n",
       "  </thead>\n",
       "  <tbody>\n",
       "    <tr>\n",
       "      <th>0</th>\n",
       "      <td>2019-10-16</td>\n",
       "      <td>Product 1</td>\n",
       "      <td>Performance</td>\n",
       "      <td>Google Ads</td>\n",
       "      <td>Search</td>\n",
       "      <td>Search Keywords</td>\n",
       "      <td>Brand</td>\n",
       "      <td>'-</td>\n",
       "      <td>'-</td>\n",
       "      <td>'-</td>\n",
       "      <td>Desktop</td>\n",
       "      <td>18-24</td>\n",
       "      <td>0.00</td>\n",
       "      <td>2</td>\n",
       "      <td>0</td>\n",
       "      <td>0.0</td>\n",
       "    </tr>\n",
       "    <tr>\n",
       "      <th>1</th>\n",
       "      <td>2019-10-16</td>\n",
       "      <td>Product 1</td>\n",
       "      <td>Performance</td>\n",
       "      <td>Google Ads</td>\n",
       "      <td>Search</td>\n",
       "      <td>Search Keywords</td>\n",
       "      <td>Brand</td>\n",
       "      <td>'-</td>\n",
       "      <td>'-</td>\n",
       "      <td>'-</td>\n",
       "      <td>Desktop</td>\n",
       "      <td>25-34</td>\n",
       "      <td>0.00</td>\n",
       "      <td>5</td>\n",
       "      <td>0</td>\n",
       "      <td>0.0</td>\n",
       "    </tr>\n",
       "    <tr>\n",
       "      <th>2</th>\n",
       "      <td>2019-10-16</td>\n",
       "      <td>Product 1</td>\n",
       "      <td>Performance</td>\n",
       "      <td>Google Ads</td>\n",
       "      <td>Search</td>\n",
       "      <td>Search Keywords</td>\n",
       "      <td>Brand</td>\n",
       "      <td>'-</td>\n",
       "      <td>'-</td>\n",
       "      <td>'-</td>\n",
       "      <td>Desktop</td>\n",
       "      <td>35-44</td>\n",
       "      <td>0.00</td>\n",
       "      <td>1</td>\n",
       "      <td>0</td>\n",
       "      <td>0.0</td>\n",
       "    </tr>\n",
       "    <tr>\n",
       "      <th>3</th>\n",
       "      <td>2019-10-16</td>\n",
       "      <td>Product 1</td>\n",
       "      <td>Performance</td>\n",
       "      <td>Google Ads</td>\n",
       "      <td>Search</td>\n",
       "      <td>Search Keywords</td>\n",
       "      <td>Brand</td>\n",
       "      <td>'-</td>\n",
       "      <td>'-</td>\n",
       "      <td>'-</td>\n",
       "      <td>Desktop</td>\n",
       "      <td>Undetermined</td>\n",
       "      <td>14.63</td>\n",
       "      <td>5</td>\n",
       "      <td>3</td>\n",
       "      <td>0.0</td>\n",
       "    </tr>\n",
       "    <tr>\n",
       "      <th>4</th>\n",
       "      <td>2019-10-18</td>\n",
       "      <td>Product 1</td>\n",
       "      <td>Performance</td>\n",
       "      <td>Google Ads</td>\n",
       "      <td>Search</td>\n",
       "      <td>Search Keywords</td>\n",
       "      <td>Brand</td>\n",
       "      <td>'-</td>\n",
       "      <td>'-</td>\n",
       "      <td>'-</td>\n",
       "      <td>Desktop</td>\n",
       "      <td>18-24</td>\n",
       "      <td>53.31</td>\n",
       "      <td>10</td>\n",
       "      <td>2</td>\n",
       "      <td>0.0</td>\n",
       "    </tr>\n",
       "  </tbody>\n",
       "</table>\n",
       "</div>"
      ],
      "text/plain": [
       "        Date    product        phase campaign_platform campaign_type  \\\n",
       "0 2019-10-16  Product 1  Performance        Google Ads        Search   \n",
       "1 2019-10-16  Product 1  Performance        Google Ads        Search   \n",
       "2 2019-10-16  Product 1  Performance        Google Ads        Search   \n",
       "3 2019-10-16  Product 1  Performance        Google Ads        Search   \n",
       "4 2019-10-18  Product 1  Performance        Google Ads        Search   \n",
       "\n",
       "  communication_medium subchannel audience_type creative_type creative_name  \\\n",
       "0      Search Keywords      Brand            '-            '-            '-   \n",
       "1      Search Keywords      Brand            '-            '-            '-   \n",
       "2      Search Keywords      Brand            '-            '-            '-   \n",
       "3      Search Keywords      Brand            '-            '-            '-   \n",
       "4      Search Keywords      Brand            '-            '-            '-   \n",
       "\n",
       "    device           age  spends  impressions  clicks  link_clicks  \n",
       "0  Desktop         18-24    0.00            2       0          0.0  \n",
       "1  Desktop         25-34    0.00            5       0          0.0  \n",
       "2  Desktop         35-44    0.00            1       0          0.0  \n",
       "3  Desktop  Undetermined   14.63            5       3          0.0  \n",
       "4  Desktop         18-24   53.31           10       2          0.0  "
      ]
     },
     "execution_count": 2,
     "metadata": {},
     "output_type": "execute_result"
    }
   ],
   "source": [
    "df = pd.read_excel('C:\\\\Users\\\\Sunny\\\\Desktop\\\\Merkle Sokrati\\\\Assignment1.xlsx')\n",
    "df.head()"
   ]
  },
  {
   "cell_type": "code",
   "execution_count": 3,
   "metadata": {},
   "outputs": [
    {
     "data": {
      "text/plain": [
       "Date                      0\n",
       "product                   0\n",
       "phase                     0\n",
       "campaign_platform         0\n",
       "campaign_type             0\n",
       "communication_medium      0\n",
       "subchannel                0\n",
       "audience_type             0\n",
       "creative_type             0\n",
       "creative_name             0\n",
       "device                    0\n",
       "age                       0\n",
       "spends                    0\n",
       "impressions               0\n",
       "clicks                    0\n",
       "link_clicks             546\n",
       "dtype: int64"
      ]
     },
     "execution_count": 3,
     "metadata": {},
     "output_type": "execute_result"
    }
   ],
   "source": [
    "df.isnull().sum()"
   ]
  },
  {
   "cell_type": "code",
   "execution_count": 4,
   "metadata": {},
   "outputs": [
    {
     "data": {
      "text/plain": [
       "(16834, 16)"
      ]
     },
     "execution_count": 4,
     "metadata": {},
     "output_type": "execute_result"
    }
   ],
   "source": [
    "df.shape"
   ]
  },
  {
   "cell_type": "code",
   "execution_count": 5,
   "metadata": {},
   "outputs": [],
   "source": [
    "df.link_clicks.fillna(df.link_clicks.mode()[0], inplace=True)"
   ]
  },
  {
   "cell_type": "code",
   "execution_count": 6,
   "metadata": {},
   "outputs": [
    {
     "data": {
      "text/plain": [
       "Date                    0\n",
       "product                 0\n",
       "phase                   0\n",
       "campaign_platform       0\n",
       "campaign_type           0\n",
       "communication_medium    0\n",
       "subchannel              0\n",
       "audience_type           0\n",
       "creative_type           0\n",
       "creative_name           0\n",
       "device                  0\n",
       "age                     0\n",
       "spends                  0\n",
       "impressions             0\n",
       "clicks                  0\n",
       "link_clicks             0\n",
       "dtype: int64"
      ]
     },
     "execution_count": 6,
     "metadata": {},
     "output_type": "execute_result"
    }
   ],
   "source": [
    "df.isnull().sum()"
   ]
  },
  {
   "cell_type": "code",
   "execution_count": 7,
   "metadata": {},
   "outputs": [
    {
     "data": {
      "text/plain": [
       "'-            15101\n",
       "Audience 1      813\n",
       "Audience 2      738\n",
       "Audience 3      182\n",
       "Name: audience_type, dtype: int64"
      ]
     },
     "execution_count": 7,
     "metadata": {},
     "output_type": "execute_result"
    }
   ],
   "source": [
    "df.audience_type.value_counts()"
   ]
  },
  {
   "cell_type": "code",
   "execution_count": 8,
   "metadata": {},
   "outputs": [
    {
     "data": {
      "text/plain": [
       "'-          15101\n",
       "Image        1130\n",
       "Carousal      603\n",
       "Name: creative_type, dtype: int64"
      ]
     },
     "execution_count": 8,
     "metadata": {},
     "output_type": "execute_result"
    }
   ],
   "source": [
    "df.creative_type.value_counts()"
   ]
  },
  {
   "cell_type": "code",
   "execution_count": 9,
   "metadata": {},
   "outputs": [
    {
     "data": {
      "text/plain": [
       "'-          15101\n",
       "Click         644\n",
       "Carousal      603\n",
       "Girl          486\n",
       "Name: creative_name, dtype: int64"
      ]
     },
     "execution_count": 9,
     "metadata": {},
     "output_type": "execute_result"
    }
   ],
   "source": [
    "df.creative_name.value_counts()"
   ]
  },
  {
   "cell_type": "code",
   "execution_count": 10,
   "metadata": {},
   "outputs": [],
   "source": [
    "df.drop(['audience_type', 'creative_type', 'creative_name'],axis=1,inplace=True)"
   ]
  },
  {
   "cell_type": "code",
   "execution_count": 11,
   "metadata": {},
   "outputs": [
    {
     "data": {
      "text/html": [
       "<div>\n",
       "<style scoped>\n",
       "    .dataframe tbody tr th:only-of-type {\n",
       "        vertical-align: middle;\n",
       "    }\n",
       "\n",
       "    .dataframe tbody tr th {\n",
       "        vertical-align: top;\n",
       "    }\n",
       "\n",
       "    .dataframe thead th {\n",
       "        text-align: right;\n",
       "    }\n",
       "</style>\n",
       "<table border=\"1\" class=\"dataframe\">\n",
       "  <thead>\n",
       "    <tr style=\"text-align: right;\">\n",
       "      <th></th>\n",
       "      <th>Date</th>\n",
       "      <th>product</th>\n",
       "      <th>phase</th>\n",
       "      <th>campaign_platform</th>\n",
       "      <th>campaign_type</th>\n",
       "      <th>communication_medium</th>\n",
       "      <th>subchannel</th>\n",
       "      <th>device</th>\n",
       "      <th>age</th>\n",
       "      <th>spends</th>\n",
       "      <th>impressions</th>\n",
       "      <th>clicks</th>\n",
       "      <th>link_clicks</th>\n",
       "    </tr>\n",
       "  </thead>\n",
       "  <tbody>\n",
       "    <tr>\n",
       "      <th>0</th>\n",
       "      <td>2019-10-16</td>\n",
       "      <td>Product 1</td>\n",
       "      <td>Performance</td>\n",
       "      <td>Google Ads</td>\n",
       "      <td>Search</td>\n",
       "      <td>Search Keywords</td>\n",
       "      <td>Brand</td>\n",
       "      <td>Desktop</td>\n",
       "      <td>18-24</td>\n",
       "      <td>0.00</td>\n",
       "      <td>2</td>\n",
       "      <td>0</td>\n",
       "      <td>0.0</td>\n",
       "    </tr>\n",
       "    <tr>\n",
       "      <th>1</th>\n",
       "      <td>2019-10-16</td>\n",
       "      <td>Product 1</td>\n",
       "      <td>Performance</td>\n",
       "      <td>Google Ads</td>\n",
       "      <td>Search</td>\n",
       "      <td>Search Keywords</td>\n",
       "      <td>Brand</td>\n",
       "      <td>Desktop</td>\n",
       "      <td>25-34</td>\n",
       "      <td>0.00</td>\n",
       "      <td>5</td>\n",
       "      <td>0</td>\n",
       "      <td>0.0</td>\n",
       "    </tr>\n",
       "    <tr>\n",
       "      <th>2</th>\n",
       "      <td>2019-10-16</td>\n",
       "      <td>Product 1</td>\n",
       "      <td>Performance</td>\n",
       "      <td>Google Ads</td>\n",
       "      <td>Search</td>\n",
       "      <td>Search Keywords</td>\n",
       "      <td>Brand</td>\n",
       "      <td>Desktop</td>\n",
       "      <td>35-44</td>\n",
       "      <td>0.00</td>\n",
       "      <td>1</td>\n",
       "      <td>0</td>\n",
       "      <td>0.0</td>\n",
       "    </tr>\n",
       "    <tr>\n",
       "      <th>3</th>\n",
       "      <td>2019-10-16</td>\n",
       "      <td>Product 1</td>\n",
       "      <td>Performance</td>\n",
       "      <td>Google Ads</td>\n",
       "      <td>Search</td>\n",
       "      <td>Search Keywords</td>\n",
       "      <td>Brand</td>\n",
       "      <td>Desktop</td>\n",
       "      <td>Undetermined</td>\n",
       "      <td>14.63</td>\n",
       "      <td>5</td>\n",
       "      <td>3</td>\n",
       "      <td>0.0</td>\n",
       "    </tr>\n",
       "    <tr>\n",
       "      <th>4</th>\n",
       "      <td>2019-10-18</td>\n",
       "      <td>Product 1</td>\n",
       "      <td>Performance</td>\n",
       "      <td>Google Ads</td>\n",
       "      <td>Search</td>\n",
       "      <td>Search Keywords</td>\n",
       "      <td>Brand</td>\n",
       "      <td>Desktop</td>\n",
       "      <td>18-24</td>\n",
       "      <td>53.31</td>\n",
       "      <td>10</td>\n",
       "      <td>2</td>\n",
       "      <td>0.0</td>\n",
       "    </tr>\n",
       "  </tbody>\n",
       "</table>\n",
       "</div>"
      ],
      "text/plain": [
       "        Date    product        phase campaign_platform campaign_type  \\\n",
       "0 2019-10-16  Product 1  Performance        Google Ads        Search   \n",
       "1 2019-10-16  Product 1  Performance        Google Ads        Search   \n",
       "2 2019-10-16  Product 1  Performance        Google Ads        Search   \n",
       "3 2019-10-16  Product 1  Performance        Google Ads        Search   \n",
       "4 2019-10-18  Product 1  Performance        Google Ads        Search   \n",
       "\n",
       "  communication_medium subchannel   device           age  spends  impressions  \\\n",
       "0      Search Keywords      Brand  Desktop         18-24    0.00            2   \n",
       "1      Search Keywords      Brand  Desktop         25-34    0.00            5   \n",
       "2      Search Keywords      Brand  Desktop         35-44    0.00            1   \n",
       "3      Search Keywords      Brand  Desktop  Undetermined   14.63            5   \n",
       "4      Search Keywords      Brand  Desktop         18-24   53.31           10   \n",
       "\n",
       "   clicks  link_clicks  \n",
       "0       0          0.0  \n",
       "1       0          0.0  \n",
       "2       0          0.0  \n",
       "3       3          0.0  \n",
       "4       2          0.0  "
      ]
     },
     "execution_count": 11,
     "metadata": {},
     "output_type": "execute_result"
    }
   ],
   "source": [
    "df.head()"
   ]
  },
  {
   "cell_type": "code",
   "execution_count": 12,
   "metadata": {},
   "outputs": [
    {
     "data": {
      "text/plain": [
       "25-34           3097\n",
       "35-44           2865\n",
       "Undetermined    2586\n",
       "45-54           2499\n",
       "18-24           2472\n",
       "55-64           1757\n",
       "65 or more      1558\n",
       "Name: age, dtype: int64"
      ]
     },
     "execution_count": 12,
     "metadata": {},
     "output_type": "execute_result"
    }
   ],
   "source": [
    "df.age.value_counts()"
   ]
  },
  {
   "cell_type": "code",
   "execution_count": 13,
   "metadata": {},
   "outputs": [],
   "source": [
    "def convert_age_to_average(x):\n",
    "    para = x.split('-')\n",
    "    if len(para) == 2:\n",
    "        return(float(para[0])+float(para[1]))/2\n",
    "    try:\n",
    "        return float(x)\n",
    "    except:\n",
    "        return None"
   ]
  },
  {
   "cell_type": "code",
   "execution_count": 14,
   "metadata": {},
   "outputs": [],
   "source": [
    "df['average_age'] = df.age.apply(convert_age_to_average)"
   ]
  },
  {
   "cell_type": "code",
   "execution_count": 15,
   "metadata": {},
   "outputs": [
    {
     "data": {
      "text/html": [
       "<div>\n",
       "<style scoped>\n",
       "    .dataframe tbody tr th:only-of-type {\n",
       "        vertical-align: middle;\n",
       "    }\n",
       "\n",
       "    .dataframe tbody tr th {\n",
       "        vertical-align: top;\n",
       "    }\n",
       "\n",
       "    .dataframe thead th {\n",
       "        text-align: right;\n",
       "    }\n",
       "</style>\n",
       "<table border=\"1\" class=\"dataframe\">\n",
       "  <thead>\n",
       "    <tr style=\"text-align: right;\">\n",
       "      <th></th>\n",
       "      <th>Date</th>\n",
       "      <th>product</th>\n",
       "      <th>phase</th>\n",
       "      <th>campaign_platform</th>\n",
       "      <th>campaign_type</th>\n",
       "      <th>communication_medium</th>\n",
       "      <th>subchannel</th>\n",
       "      <th>device</th>\n",
       "      <th>age</th>\n",
       "      <th>spends</th>\n",
       "      <th>impressions</th>\n",
       "      <th>clicks</th>\n",
       "      <th>link_clicks</th>\n",
       "      <th>average_age</th>\n",
       "    </tr>\n",
       "  </thead>\n",
       "  <tbody>\n",
       "    <tr>\n",
       "      <th>0</th>\n",
       "      <td>2019-10-16</td>\n",
       "      <td>Product 1</td>\n",
       "      <td>Performance</td>\n",
       "      <td>Google Ads</td>\n",
       "      <td>Search</td>\n",
       "      <td>Search Keywords</td>\n",
       "      <td>Brand</td>\n",
       "      <td>Desktop</td>\n",
       "      <td>18-24</td>\n",
       "      <td>0.00</td>\n",
       "      <td>2</td>\n",
       "      <td>0</td>\n",
       "      <td>0.0</td>\n",
       "      <td>21.0</td>\n",
       "    </tr>\n",
       "    <tr>\n",
       "      <th>1</th>\n",
       "      <td>2019-10-16</td>\n",
       "      <td>Product 1</td>\n",
       "      <td>Performance</td>\n",
       "      <td>Google Ads</td>\n",
       "      <td>Search</td>\n",
       "      <td>Search Keywords</td>\n",
       "      <td>Brand</td>\n",
       "      <td>Desktop</td>\n",
       "      <td>25-34</td>\n",
       "      <td>0.00</td>\n",
       "      <td>5</td>\n",
       "      <td>0</td>\n",
       "      <td>0.0</td>\n",
       "      <td>29.5</td>\n",
       "    </tr>\n",
       "    <tr>\n",
       "      <th>2</th>\n",
       "      <td>2019-10-16</td>\n",
       "      <td>Product 1</td>\n",
       "      <td>Performance</td>\n",
       "      <td>Google Ads</td>\n",
       "      <td>Search</td>\n",
       "      <td>Search Keywords</td>\n",
       "      <td>Brand</td>\n",
       "      <td>Desktop</td>\n",
       "      <td>35-44</td>\n",
       "      <td>0.00</td>\n",
       "      <td>1</td>\n",
       "      <td>0</td>\n",
       "      <td>0.0</td>\n",
       "      <td>39.5</td>\n",
       "    </tr>\n",
       "    <tr>\n",
       "      <th>3</th>\n",
       "      <td>2019-10-16</td>\n",
       "      <td>Product 1</td>\n",
       "      <td>Performance</td>\n",
       "      <td>Google Ads</td>\n",
       "      <td>Search</td>\n",
       "      <td>Search Keywords</td>\n",
       "      <td>Brand</td>\n",
       "      <td>Desktop</td>\n",
       "      <td>Undetermined</td>\n",
       "      <td>14.63</td>\n",
       "      <td>5</td>\n",
       "      <td>3</td>\n",
       "      <td>0.0</td>\n",
       "      <td>NaN</td>\n",
       "    </tr>\n",
       "    <tr>\n",
       "      <th>4</th>\n",
       "      <td>2019-10-18</td>\n",
       "      <td>Product 1</td>\n",
       "      <td>Performance</td>\n",
       "      <td>Google Ads</td>\n",
       "      <td>Search</td>\n",
       "      <td>Search Keywords</td>\n",
       "      <td>Brand</td>\n",
       "      <td>Desktop</td>\n",
       "      <td>18-24</td>\n",
       "      <td>53.31</td>\n",
       "      <td>10</td>\n",
       "      <td>2</td>\n",
       "      <td>0.0</td>\n",
       "      <td>21.0</td>\n",
       "    </tr>\n",
       "  </tbody>\n",
       "</table>\n",
       "</div>"
      ],
      "text/plain": [
       "        Date    product        phase campaign_platform campaign_type  \\\n",
       "0 2019-10-16  Product 1  Performance        Google Ads        Search   \n",
       "1 2019-10-16  Product 1  Performance        Google Ads        Search   \n",
       "2 2019-10-16  Product 1  Performance        Google Ads        Search   \n",
       "3 2019-10-16  Product 1  Performance        Google Ads        Search   \n",
       "4 2019-10-18  Product 1  Performance        Google Ads        Search   \n",
       "\n",
       "  communication_medium subchannel   device           age  spends  impressions  \\\n",
       "0      Search Keywords      Brand  Desktop         18-24    0.00            2   \n",
       "1      Search Keywords      Brand  Desktop         25-34    0.00            5   \n",
       "2      Search Keywords      Brand  Desktop         35-44    0.00            1   \n",
       "3      Search Keywords      Brand  Desktop  Undetermined   14.63            5   \n",
       "4      Search Keywords      Brand  Desktop         18-24   53.31           10   \n",
       "\n",
       "   clicks  link_clicks  average_age  \n",
       "0       0          0.0         21.0  \n",
       "1       0          0.0         29.5  \n",
       "2       0          0.0         39.5  \n",
       "3       3          0.0          NaN  \n",
       "4       2          0.0         21.0  "
      ]
     },
     "execution_count": 15,
     "metadata": {},
     "output_type": "execute_result"
    }
   ],
   "source": [
    "df.head()"
   ]
  },
  {
   "cell_type": "code",
   "execution_count": 16,
   "metadata": {},
   "outputs": [],
   "source": [
    "df.drop('age',axis=1, inplace=True)"
   ]
  },
  {
   "cell_type": "code",
   "execution_count": 17,
   "metadata": {},
   "outputs": [],
   "source": [
    "df.average_age.fillna(df.average_age.mode()[0],inplace=True)"
   ]
  },
  {
   "cell_type": "code",
   "execution_count": 18,
   "metadata": {},
   "outputs": [
    {
     "data": {
      "text/html": [
       "<div>\n",
       "<style scoped>\n",
       "    .dataframe tbody tr th:only-of-type {\n",
       "        vertical-align: middle;\n",
       "    }\n",
       "\n",
       "    .dataframe tbody tr th {\n",
       "        vertical-align: top;\n",
       "    }\n",
       "\n",
       "    .dataframe thead th {\n",
       "        text-align: right;\n",
       "    }\n",
       "</style>\n",
       "<table border=\"1\" class=\"dataframe\">\n",
       "  <thead>\n",
       "    <tr style=\"text-align: right;\">\n",
       "      <th></th>\n",
       "      <th>Date</th>\n",
       "      <th>product</th>\n",
       "      <th>phase</th>\n",
       "      <th>campaign_platform</th>\n",
       "      <th>campaign_type</th>\n",
       "      <th>communication_medium</th>\n",
       "      <th>subchannel</th>\n",
       "      <th>device</th>\n",
       "      <th>spends</th>\n",
       "      <th>impressions</th>\n",
       "      <th>clicks</th>\n",
       "      <th>link_clicks</th>\n",
       "      <th>average_age</th>\n",
       "    </tr>\n",
       "  </thead>\n",
       "  <tbody>\n",
       "    <tr>\n",
       "      <th>0</th>\n",
       "      <td>2019-10-16</td>\n",
       "      <td>Product 1</td>\n",
       "      <td>Performance</td>\n",
       "      <td>Google Ads</td>\n",
       "      <td>Search</td>\n",
       "      <td>Search Keywords</td>\n",
       "      <td>Brand</td>\n",
       "      <td>Desktop</td>\n",
       "      <td>0.00</td>\n",
       "      <td>2</td>\n",
       "      <td>0</td>\n",
       "      <td>0.0</td>\n",
       "      <td>21.0</td>\n",
       "    </tr>\n",
       "    <tr>\n",
       "      <th>1</th>\n",
       "      <td>2019-10-16</td>\n",
       "      <td>Product 1</td>\n",
       "      <td>Performance</td>\n",
       "      <td>Google Ads</td>\n",
       "      <td>Search</td>\n",
       "      <td>Search Keywords</td>\n",
       "      <td>Brand</td>\n",
       "      <td>Desktop</td>\n",
       "      <td>0.00</td>\n",
       "      <td>5</td>\n",
       "      <td>0</td>\n",
       "      <td>0.0</td>\n",
       "      <td>29.5</td>\n",
       "    </tr>\n",
       "    <tr>\n",
       "      <th>2</th>\n",
       "      <td>2019-10-16</td>\n",
       "      <td>Product 1</td>\n",
       "      <td>Performance</td>\n",
       "      <td>Google Ads</td>\n",
       "      <td>Search</td>\n",
       "      <td>Search Keywords</td>\n",
       "      <td>Brand</td>\n",
       "      <td>Desktop</td>\n",
       "      <td>0.00</td>\n",
       "      <td>1</td>\n",
       "      <td>0</td>\n",
       "      <td>0.0</td>\n",
       "      <td>39.5</td>\n",
       "    </tr>\n",
       "    <tr>\n",
       "      <th>3</th>\n",
       "      <td>2019-10-16</td>\n",
       "      <td>Product 1</td>\n",
       "      <td>Performance</td>\n",
       "      <td>Google Ads</td>\n",
       "      <td>Search</td>\n",
       "      <td>Search Keywords</td>\n",
       "      <td>Brand</td>\n",
       "      <td>Desktop</td>\n",
       "      <td>14.63</td>\n",
       "      <td>5</td>\n",
       "      <td>3</td>\n",
       "      <td>0.0</td>\n",
       "      <td>29.5</td>\n",
       "    </tr>\n",
       "    <tr>\n",
       "      <th>4</th>\n",
       "      <td>2019-10-18</td>\n",
       "      <td>Product 1</td>\n",
       "      <td>Performance</td>\n",
       "      <td>Google Ads</td>\n",
       "      <td>Search</td>\n",
       "      <td>Search Keywords</td>\n",
       "      <td>Brand</td>\n",
       "      <td>Desktop</td>\n",
       "      <td>53.31</td>\n",
       "      <td>10</td>\n",
       "      <td>2</td>\n",
       "      <td>0.0</td>\n",
       "      <td>21.0</td>\n",
       "    </tr>\n",
       "  </tbody>\n",
       "</table>\n",
       "</div>"
      ],
      "text/plain": [
       "        Date    product        phase campaign_platform campaign_type  \\\n",
       "0 2019-10-16  Product 1  Performance        Google Ads        Search   \n",
       "1 2019-10-16  Product 1  Performance        Google Ads        Search   \n",
       "2 2019-10-16  Product 1  Performance        Google Ads        Search   \n",
       "3 2019-10-16  Product 1  Performance        Google Ads        Search   \n",
       "4 2019-10-18  Product 1  Performance        Google Ads        Search   \n",
       "\n",
       "  communication_medium subchannel   device  spends  impressions  clicks  \\\n",
       "0      Search Keywords      Brand  Desktop    0.00            2       0   \n",
       "1      Search Keywords      Brand  Desktop    0.00            5       0   \n",
       "2      Search Keywords      Brand  Desktop    0.00            1       0   \n",
       "3      Search Keywords      Brand  Desktop   14.63            5       3   \n",
       "4      Search Keywords      Brand  Desktop   53.31           10       2   \n",
       "\n",
       "   link_clicks  average_age  \n",
       "0          0.0         21.0  \n",
       "1          0.0         29.5  \n",
       "2          0.0         39.5  \n",
       "3          0.0         29.5  \n",
       "4          0.0         21.0  "
      ]
     },
     "execution_count": 18,
     "metadata": {},
     "output_type": "execute_result"
    }
   ],
   "source": [
    "df.head()"
   ]
  },
  {
   "cell_type": "code",
   "execution_count": 19,
   "metadata": {},
   "outputs": [
    {
     "data": {
      "text/html": [
       "<div>\n",
       "<style scoped>\n",
       "    .dataframe tbody tr th:only-of-type {\n",
       "        vertical-align: middle;\n",
       "    }\n",
       "\n",
       "    .dataframe tbody tr th {\n",
       "        vertical-align: top;\n",
       "    }\n",
       "\n",
       "    .dataframe thead th {\n",
       "        text-align: right;\n",
       "    }\n",
       "</style>\n",
       "<table border=\"1\" class=\"dataframe\">\n",
       "  <thead>\n",
       "    <tr style=\"text-align: right;\">\n",
       "      <th></th>\n",
       "      <th>spends</th>\n",
       "      <th>impressions</th>\n",
       "      <th>clicks</th>\n",
       "      <th>link_clicks</th>\n",
       "      <th>average_age</th>\n",
       "    </tr>\n",
       "  </thead>\n",
       "  <tbody>\n",
       "    <tr>\n",
       "      <th>count</th>\n",
       "      <td>16834.000000</td>\n",
       "      <td>16834.000000</td>\n",
       "      <td>16834.000000</td>\n",
       "      <td>16834.000000</td>\n",
       "      <td>16834.000000</td>\n",
       "    </tr>\n",
       "    <tr>\n",
       "      <th>mean</th>\n",
       "      <td>148.694236</td>\n",
       "      <td>287.959190</td>\n",
       "      <td>11.977783</td>\n",
       "      <td>2.099976</td>\n",
       "      <td>36.053879</td>\n",
       "    </tr>\n",
       "    <tr>\n",
       "      <th>std</th>\n",
       "      <td>483.895724</td>\n",
       "      <td>2444.450313</td>\n",
       "      <td>44.796963</td>\n",
       "      <td>18.358048</td>\n",
       "      <td>11.747268</td>\n",
       "    </tr>\n",
       "    <tr>\n",
       "      <th>min</th>\n",
       "      <td>0.000000</td>\n",
       "      <td>0.000000</td>\n",
       "      <td>0.000000</td>\n",
       "      <td>0.000000</td>\n",
       "      <td>21.000000</td>\n",
       "    </tr>\n",
       "    <tr>\n",
       "      <th>25%</th>\n",
       "      <td>0.180000</td>\n",
       "      <td>3.000000</td>\n",
       "      <td>0.000000</td>\n",
       "      <td>0.000000</td>\n",
       "      <td>29.500000</td>\n",
       "    </tr>\n",
       "    <tr>\n",
       "      <th>50%</th>\n",
       "      <td>22.535000</td>\n",
       "      <td>13.000000</td>\n",
       "      <td>2.000000</td>\n",
       "      <td>0.000000</td>\n",
       "      <td>29.500000</td>\n",
       "    </tr>\n",
       "    <tr>\n",
       "      <th>75%</th>\n",
       "      <td>110.020000</td>\n",
       "      <td>64.000000</td>\n",
       "      <td>8.000000</td>\n",
       "      <td>0.000000</td>\n",
       "      <td>49.500000</td>\n",
       "    </tr>\n",
       "    <tr>\n",
       "      <th>max</th>\n",
       "      <td>9221.960000</td>\n",
       "      <td>67454.000000</td>\n",
       "      <td>1075.000000</td>\n",
       "      <td>450.000000</td>\n",
       "      <td>59.500000</td>\n",
       "    </tr>\n",
       "  </tbody>\n",
       "</table>\n",
       "</div>"
      ],
      "text/plain": [
       "             spends   impressions        clicks   link_clicks   average_age\n",
       "count  16834.000000  16834.000000  16834.000000  16834.000000  16834.000000\n",
       "mean     148.694236    287.959190     11.977783      2.099976     36.053879\n",
       "std      483.895724   2444.450313     44.796963     18.358048     11.747268\n",
       "min        0.000000      0.000000      0.000000      0.000000     21.000000\n",
       "25%        0.180000      3.000000      0.000000      0.000000     29.500000\n",
       "50%       22.535000     13.000000      2.000000      0.000000     29.500000\n",
       "75%      110.020000     64.000000      8.000000      0.000000     49.500000\n",
       "max     9221.960000  67454.000000   1075.000000    450.000000     59.500000"
      ]
     },
     "execution_count": 19,
     "metadata": {},
     "output_type": "execute_result"
    }
   ],
   "source": [
    "df.describe()"
   ]
  },
  {
   "cell_type": "code",
   "execution_count": 20,
   "metadata": {},
   "outputs": [
    {
     "data": {
      "text/plain": [
       "<matplotlib.axes._subplots.AxesSubplot at 0x2620c07c948>"
      ]
     },
     "execution_count": 20,
     "metadata": {},
     "output_type": "execute_result"
    },
    {
     "data": {
      "image/png": "[encoded data removed]",
      "text/plain": [
       "<Figure size 432x288 with 1 Axes>"
      ]
     },
     "metadata": {
      "needs_background": "light"
     },
     "output_type": "display_data"
    }
   ],
   "source": [
    "df.boxplot('spends')"
   ]
  },
  {
   "cell_type": "code",
   "execution_count": 21,
   "metadata": {},
   "outputs": [
    {
     "data": {
      "text/plain": [
       "<matplotlib.axes._subplots.AxesSubplot at 0x2620bbe8688>"
      ]
     },
     "execution_count": 21,
     "metadata": {},
     "output_type": "execute_result"
    },
    {
     "data": {
      "image/png": "[encoded data removed]",
      "text/plain": [
       "<Figure size 432x288 with 1 Axes>"
      ]
     },
     "metadata": {
      "needs_background": "light"
     },
     "output_type": "display_data"
    }
   ],
   "source": [
    "df.boxplot('impressions')"
   ]
  },
  {
   "cell_type": "code",
   "execution_count": 22,
   "metadata": {},
   "outputs": [
    {
     "data": {
      "text/plain": [
       "<matplotlib.axes._subplots.AxesSubplot at 0x2620bcab288>"
      ]
     },
     "execution_count": 22,
     "metadata": {},
     "output_type": "execute_result"
    },
    {
     "data": {
      "image/png": "[encoded data removed]",
      "text/plain": [
       "<Figure size 432x288 with 1 Axes>"
      ]
     },
     "metadata": {
      "needs_background": "light"
     },
     "output_type": "display_data"
    }
   ],
   "source": [
    "df.boxplot('clicks')"
   ]
  },
  {
   "cell_type": "code",
   "execution_count": 23,
   "metadata": {},
   "outputs": [
    {
     "data": {
      "text/plain": [
       "<matplotlib.axes._subplots.AxesSubplot at 0x2620bd09548>"
      ]
     },
     "execution_count": 23,
     "metadata": {},
     "output_type": "execute_result"
    },
    {
     "data": {
      "image/png": "[encoded data removed]",
      "text/plain": [
       "<Figure size 432x288 with 1 Axes>"
      ]
     },
     "metadata": {
      "needs_background": "light"
     },
     "output_type": "display_data"
    }
   ],
   "source": [
    "df.boxplot('link_clicks')"
   ]
  },
  {
   "cell_type": "code",
   "execution_count": 24,
   "metadata": {},
   "outputs": [
    {
     "data": {
      "text/plain": [
       "<matplotlib.axes._subplots.AxesSubplot at 0x2620bf5f748>"
      ]
     },
     "execution_count": 24,
     "metadata": {},
     "output_type": "execute_result"
    },
    {
     "data": {
      "image/png": "[encoded data removed]",
      "text/plain": [
       "<Figure size 432x288 with 1 Axes>"
      ]
     },
     "metadata": {
      "needs_background": "light"
     },
     "output_type": "display_data"
    }
   ],
   "source": [
    "df.boxplot('average_age')"
   ]
  },
  {
   "cell_type": "code",
   "execution_count": 25,
   "metadata": {},
   "outputs": [
    {
     "data": {
      "text/plain": [
       "spends         109.84\n",
       "impressions     61.00\n",
       "clicks           8.00\n",
       "link_clicks      0.00\n",
       "average_age     20.00\n",
       "dtype: float64"
      ]
     },
     "execution_count": 25,
     "metadata": {},
     "output_type": "execute_result"
    }
   ],
   "source": [
    "Q1 = df.quantile(0.25)\n",
    "Q3 = df.quantile(0.75)\n",
    "IQR = Q3 - Q1\n",
    "IQR"
   ]
  },
  {
   "cell_type": "code",
   "execution_count": 26,
   "metadata": {},
   "outputs": [],
   "source": [
    "df.drop('Date', axis=1, inplace=True)"
   ]
  },
  {
   "cell_type": "code",
   "execution_count": 27,
   "metadata": {},
   "outputs": [],
   "source": [
    "df2 = df[~((df < (Q1 - 1.5 * IQR)) |(df > (Q3 + 1.5 * IQR))).any(axis=1)]"
   ]
  },
  {
   "cell_type": "code",
   "execution_count": 28,
   "metadata": {},
   "outputs": [
    {
     "data": {
      "text/html": [
       "<div>\n",
       "<style scoped>\n",
       "    .dataframe tbody tr th:only-of-type {\n",
       "        vertical-align: middle;\n",
       "    }\n",
       "\n",
       "    .dataframe tbody tr th {\n",
       "        vertical-align: top;\n",
       "    }\n",
       "\n",
       "    .dataframe thead th {\n",
       "        text-align: right;\n",
       "    }\n",
       "</style>\n",
       "<table border=\"1\" class=\"dataframe\">\n",
       "  <thead>\n",
       "    <tr style=\"text-align: right;\">\n",
       "      <th></th>\n",
       "      <th>product</th>\n",
       "      <th>phase</th>\n",
       "      <th>campaign_platform</th>\n",
       "      <th>campaign_type</th>\n",
       "      <th>communication_medium</th>\n",
       "      <th>subchannel</th>\n",
       "      <th>device</th>\n",
       "      <th>spends</th>\n",
       "      <th>impressions</th>\n",
       "      <th>clicks</th>\n",
       "      <th>link_clicks</th>\n",
       "      <th>average_age</th>\n",
       "    </tr>\n",
       "  </thead>\n",
       "  <tbody>\n",
       "    <tr>\n",
       "      <th>0</th>\n",
       "      <td>Product 1</td>\n",
       "      <td>Performance</td>\n",
       "      <td>Google Ads</td>\n",
       "      <td>Search</td>\n",
       "      <td>Search Keywords</td>\n",
       "      <td>Brand</td>\n",
       "      <td>Desktop</td>\n",
       "      <td>0.00</td>\n",
       "      <td>2</td>\n",
       "      <td>0</td>\n",
       "      <td>0.0</td>\n",
       "      <td>21.0</td>\n",
       "    </tr>\n",
       "    <tr>\n",
       "      <th>1</th>\n",
       "      <td>Product 1</td>\n",
       "      <td>Performance</td>\n",
       "      <td>Google Ads</td>\n",
       "      <td>Search</td>\n",
       "      <td>Search Keywords</td>\n",
       "      <td>Brand</td>\n",
       "      <td>Desktop</td>\n",
       "      <td>0.00</td>\n",
       "      <td>5</td>\n",
       "      <td>0</td>\n",
       "      <td>0.0</td>\n",
       "      <td>29.5</td>\n",
       "    </tr>\n",
       "    <tr>\n",
       "      <th>2</th>\n",
       "      <td>Product 1</td>\n",
       "      <td>Performance</td>\n",
       "      <td>Google Ads</td>\n",
       "      <td>Search</td>\n",
       "      <td>Search Keywords</td>\n",
       "      <td>Brand</td>\n",
       "      <td>Desktop</td>\n",
       "      <td>0.00</td>\n",
       "      <td>1</td>\n",
       "      <td>0</td>\n",
       "      <td>0.0</td>\n",
       "      <td>39.5</td>\n",
       "    </tr>\n",
       "    <tr>\n",
       "      <th>3</th>\n",
       "      <td>Product 1</td>\n",
       "      <td>Performance</td>\n",
       "      <td>Google Ads</td>\n",
       "      <td>Search</td>\n",
       "      <td>Search Keywords</td>\n",
       "      <td>Brand</td>\n",
       "      <td>Desktop</td>\n",
       "      <td>14.63</td>\n",
       "      <td>5</td>\n",
       "      <td>3</td>\n",
       "      <td>0.0</td>\n",
       "      <td>29.5</td>\n",
       "    </tr>\n",
       "    <tr>\n",
       "      <th>4</th>\n",
       "      <td>Product 1</td>\n",
       "      <td>Performance</td>\n",
       "      <td>Google Ads</td>\n",
       "      <td>Search</td>\n",
       "      <td>Search Keywords</td>\n",
       "      <td>Brand</td>\n",
       "      <td>Desktop</td>\n",
       "      <td>53.31</td>\n",
       "      <td>10</td>\n",
       "      <td>2</td>\n",
       "      <td>0.0</td>\n",
       "      <td>21.0</td>\n",
       "    </tr>\n",
       "  </tbody>\n",
       "</table>\n",
       "</div>"
      ],
      "text/plain": [
       "     product        phase campaign_platform campaign_type  \\\n",
       "0  Product 1  Performance        Google Ads        Search   \n",
       "1  Product 1  Performance        Google Ads        Search   \n",
       "2  Product 1  Performance        Google Ads        Search   \n",
       "3  Product 1  Performance        Google Ads        Search   \n",
       "4  Product 1  Performance        Google Ads        Search   \n",
       "\n",
       "  communication_medium subchannel   device  spends  impressions  clicks  \\\n",
       "0      Search Keywords      Brand  Desktop    0.00            2       0   \n",
       "1      Search Keywords      Brand  Desktop    0.00            5       0   \n",
       "2      Search Keywords      Brand  Desktop    0.00            1       0   \n",
       "3      Search Keywords      Brand  Desktop   14.63            5       3   \n",
       "4      Search Keywords      Brand  Desktop   53.31           10       2   \n",
       "\n",
       "   link_clicks  average_age  \n",
       "0          0.0         21.0  \n",
       "1          0.0         29.5  \n",
       "2          0.0         39.5  \n",
       "3          0.0         29.5  \n",
       "4          0.0         21.0  "
      ]
     },
     "execution_count": 28,
     "metadata": {},
     "output_type": "execute_result"
    }
   ],
   "source": [
    "df2.head()"
   ]
  },
  {
   "cell_type": "code",
   "execution_count": 29,
   "metadata": {},
   "outputs": [
    {
     "data": {
      "text/plain": [
       "(13137, 12)"
      ]
     },
     "execution_count": 29,
     "metadata": {},
     "output_type": "execute_result"
    }
   ],
   "source": [
    "df2.shape"
   ]
  },
  {
   "cell_type": "code",
   "execution_count": 30,
   "metadata": {},
   "outputs": [
    {
     "data": {
      "text/html": [
       "<div>\n",
       "<style scoped>\n",
       "    .dataframe tbody tr th:only-of-type {\n",
       "        vertical-align: middle;\n",
       "    }\n",
       "\n",
       "    .dataframe tbody tr th {\n",
       "        vertical-align: top;\n",
       "    }\n",
       "\n",
       "    .dataframe thead th {\n",
       "        text-align: right;\n",
       "    }\n",
       "</style>\n",
       "<table border=\"1\" class=\"dataframe\">\n",
       "  <thead>\n",
       "    <tr style=\"text-align: right;\">\n",
       "      <th></th>\n",
       "      <th>spends</th>\n",
       "      <th>impressions</th>\n",
       "      <th>clicks</th>\n",
       "      <th>link_clicks</th>\n",
       "      <th>average_age</th>\n",
       "    </tr>\n",
       "  </thead>\n",
       "  <tbody>\n",
       "    <tr>\n",
       "      <th>count</th>\n",
       "      <td>13137.000000</td>\n",
       "      <td>13137.000000</td>\n",
       "      <td>13137.000000</td>\n",
       "      <td>13137.0</td>\n",
       "      <td>13137.000000</td>\n",
       "    </tr>\n",
       "    <tr>\n",
       "      <th>mean</th>\n",
       "      <td>35.833977</td>\n",
       "      <td>17.726422</td>\n",
       "      <td>2.681662</td>\n",
       "      <td>0.0</td>\n",
       "      <td>37.059679</td>\n",
       "    </tr>\n",
       "    <tr>\n",
       "      <th>std</th>\n",
       "      <td>54.371308</td>\n",
       "      <td>25.574461</td>\n",
       "      <td>3.742214</td>\n",
       "      <td>0.0</td>\n",
       "      <td>12.357683</td>\n",
       "    </tr>\n",
       "    <tr>\n",
       "      <th>min</th>\n",
       "      <td>0.000000</td>\n",
       "      <td>0.000000</td>\n",
       "      <td>0.000000</td>\n",
       "      <td>0.0</td>\n",
       "      <td>21.000000</td>\n",
       "    </tr>\n",
       "    <tr>\n",
       "      <th>25%</th>\n",
       "      <td>0.000000</td>\n",
       "      <td>2.000000</td>\n",
       "      <td>0.000000</td>\n",
       "      <td>0.0</td>\n",
       "      <td>29.500000</td>\n",
       "    </tr>\n",
       "    <tr>\n",
       "      <th>50%</th>\n",
       "      <td>10.440000</td>\n",
       "      <td>7.000000</td>\n",
       "      <td>1.000000</td>\n",
       "      <td>0.0</td>\n",
       "      <td>29.500000</td>\n",
       "    </tr>\n",
       "    <tr>\n",
       "      <th>75%</th>\n",
       "      <td>49.590000</td>\n",
       "      <td>21.000000</td>\n",
       "      <td>4.000000</td>\n",
       "      <td>0.0</td>\n",
       "      <td>49.500000</td>\n",
       "    </tr>\n",
       "    <tr>\n",
       "      <th>max</th>\n",
       "      <td>274.380000</td>\n",
       "      <td>155.000000</td>\n",
       "      <td>20.000000</td>\n",
       "      <td>0.0</td>\n",
       "      <td>59.500000</td>\n",
       "    </tr>\n",
       "  </tbody>\n",
       "</table>\n",
       "</div>"
      ],
      "text/plain": [
       "             spends   impressions        clicks  link_clicks   average_age\n",
       "count  13137.000000  13137.000000  13137.000000      13137.0  13137.000000\n",
       "mean      35.833977     17.726422      2.681662          0.0     37.059679\n",
       "std       54.371308     25.574461      3.742214          0.0     12.357683\n",
       "min        0.000000      0.000000      0.000000          0.0     21.000000\n",
       "25%        0.000000      2.000000      0.000000          0.0     29.500000\n",
       "50%       10.440000      7.000000      1.000000          0.0     29.500000\n",
       "75%       49.590000     21.000000      4.000000          0.0     49.500000\n",
       "max      274.380000    155.000000     20.000000          0.0     59.500000"
      ]
     },
     "execution_count": 30,
     "metadata": {},
     "output_type": "execute_result"
    }
   ],
   "source": [
    "df2.describe()"
   ]
  },
  {
   "cell_type": "code",
   "execution_count": 34,
   "metadata": {},
   "outputs": [
    {
     "data": {
      "text/plain": [
       "product                  object\n",
       "phase                    object\n",
       "campaign_platform        object\n",
       "campaign_type            object\n",
       "communication_medium     object\n",
       "subchannel               object\n",
       "device                   object\n",
       "spends                  float64\n",
       "impressions               int64\n",
       "clicks                    int64\n",
       "link_clicks             float64\n",
       "average_age             float64\n",
       "dtype: object"
      ]
     },
     "execution_count": 34,
     "metadata": {},
     "output_type": "execute_result"
    }
   ],
   "source": [
    "df2.dtypes"
   ]
  }
 ],
 "metadata": {
  "kernelspec": {
   "display_name": "Python 3",
   "language": "python",
   "name": "python3"
  },
  "language_info": {
   "codemirror_mode": {
    "name": "ipython",
    "version": 3
   },
   "file_extension": ".py",
   "mimetype": "text/x-python",
   "name": "python",
   "nbconvert_exporter": "python",
   "pygments_lexer": "ipython3",
   "version": "3.7.6"
  }
 },
 "nbformat": 4,
 "nbformat_minor": 4
}
